{
 "cells": [
  {
   "cell_type": "markdown",
   "metadata": {
    "collapsed": true
   },
   "source": [
    "# IMPORT\n",
    "### Import all the necessary files\n",
    "- numpy - for basic numerical operations\n",
    "- pandas - to store data in a organized dataFrame\n",
    "- sklearn\n",
    "    - tree.DecisionTreeClassifier - Classifier function from sklearn\n",
    "    - model_selection.train_test_split - To split the data into train and test randomly\n",
    "    - metrics - These are used for the numerical evaluation of the model"
   ]
  },
  {
   "cell_type": "code",
   "execution_count": 133,
   "metadata": {
    "collapsed": true
   },
   "outputs": [],
   "source": [
    "import numpy as np\n",
    "import pandas as pd\n",
    "# skLearn\n",
    "from sklearn.tree import DecisionTreeClassifier\n",
    "from sklearn.model_selection import train_test_split\n",
    "from sklearn.metrics import confusion_matrix,accuracy_score,classification_report\n",
    "# df = pd.read_csv('data/voteData.csv',',');\n"
   ]
  },
  {
   "cell_type": "markdown",
   "metadata": {},
   "source": [
    "### Necessary Varaibles\n"
   ]
  },
  {
   "cell_type": "code",
   "execution_count": 134,
   "metadata": {
    "collapsed": true
   },
   "outputs": [],
   "source": [
    "dataSrc = 'data/voteData.csv'"
   ]
  },
  {
   "cell_type": "code",
   "execution_count": 135,
   "metadata": {
    "collapsed": true
   },
   "outputs": [],
   "source": [
    "def importData(src):\n",
    "    df = pd.read_csv(dataSrc,';')\n",
    "    return df\n",
    "\n",
    "def splitData(data):\n",
    "    data = data.replace(\"n\",0)\n",
    "    data = data.replace(\"y\",1)\n",
    "    data = data.replace(\"u\",2)\n",
    "    data = data.replace(\"republican.\",1)\n",
    "    data = data.replace(\"democrat.\",0)\n",
    "    length = data.shape[1]\n",
    "    X = data.values[:,0:length-2]\n",
    "    Y = data.values[:,length-1]\n",
    "#     print(X,Y)\n",
    "    \n",
    "    X_train,X_test,Y_train,Y_test = train_test_split(X,Y,test_size = 0.3, random_state = 100)\n",
    "    return X_train,X_test,Y_train,Y_test\n",
    "\n",
    "def printReport(Y_test,Y_pred):\n",
    "    print(\"Confusion Matrix:\" )\n",
    "    print(confusion_matrix(Y_test,Y_pred))\n",
    "    print (\"Accuracy : \", accuracy_score(Y_test,Y_pred)*100 ,\"%\") \n",
    "      \n",
    "    print(\"Report : \\n\", classification_report(Y_test, Y_pred)) \n",
    "    print(\"==========================================================================================================\")"
   ]
  },
  {
   "cell_type": "code",
   "execution_count": 136,
   "metadata": {},
   "outputs": [
    {
     "name": "stdout",
     "output_type": "stream",
     "text": [
      "X_Train (210, 15)\n",
      "Y_Train (210,)\n",
      "X_Test (90, 15)\n",
      "Y_Test (90,)\n"
     ]
    }
   ],
   "source": [
    "trainDF = importData(dataSrc);\n",
    "trainDF.head()\n",
    "X_train,X_test,Y_train,Y_test = splitData(trainDF)\n",
    "# printShapes(X_train,Y_tr)\n",
    "print(\"X_Train\",X_train.shape)\n",
    "print(\"Y_Train\",Y_train.shape)\n",
    "print(\"X_Test\",X_test.shape)\n",
    "print(\"Y_Test\",Y_test.shape)"
   ]
  },
  {
   "cell_type": "markdown",
   "metadata": {
    "collapsed": true
   },
   "source": [
    "## Training and prediction using entropy"
   ]
  },
  {
   "cell_type": "code",
   "execution_count": 137,
   "metadata": {},
   "outputs": [],
   "source": [
    "def trainAndPredict(criterion,X_train,Y_train,X_test,Y_test):\n",
    "    clf = DecisionTreeClassifier(criterion=criterion, random_state=100, max_depth=3, min_samples_leaf=5)\n",
    "    clf.fit(X_train,Y_train)\n",
    "    Y_pred = clf.predict(X_test)\n",
    "    printReport(Y_test,Y_pred)\n"
   ]
  },
  {
   "cell_type": "code",
   "execution_count": 138,
   "metadata": {},
   "outputs": [
    {
     "name": "stdout",
     "output_type": "stream",
     "text": [
      "Classification using Entropy\n",
      "\n",
      "Confusion Matrix:\n",
      "[[57  4]\n",
      " [ 1 28]]\n",
      "Accuracy :  94.4444444444 %\n",
      "Report : \n",
      "              precision    recall  f1-score   support\n",
      "\n",
      "          0       0.98      0.93      0.96        61\n",
      "          1       0.88      0.97      0.92        29\n",
      "\n",
      "avg / total       0.95      0.94      0.95        90\n",
      "\n",
      "==========================================================================================================\n",
      "Classification using gini Index\n",
      "\n",
      "Confusion Matrix:\n",
      "[[57  4]\n",
      " [ 1 28]]\n",
      "Accuracy :  94.4444444444 %\n",
      "Report : \n",
      "              precision    recall  f1-score   support\n",
      "\n",
      "          0       0.98      0.93      0.96        61\n",
      "          1       0.88      0.97      0.92        29\n",
      "\n",
      "avg / total       0.95      0.94      0.95        90\n",
      "\n",
      "==========================================================================================================\n"
     ]
    }
   ],
   "source": [
    "print(\"Classification using Entropy\\n\")\n",
    "trainAndPredict('entropy',X_train,Y_train,X_test,Y_test)\n",
    "print(\"Classification using gini Index\\n\")\n",
    "trainAndPredict('gini',X_train,Y_train,X_test,Y_test)"
   ]
  }
 ],
 "metadata": {
  "kernelspec": {
   "display_name": "Python 3",
   "language": "python",
   "name": "python3"
  },
  "language_info": {
   "codemirror_mode": {
    "name": "ipython",
    "version": 3
   },
   "file_extension": ".py",
   "mimetype": "text/x-python",
   "name": "python",
   "nbconvert_exporter": "python",
   "pygments_lexer": "ipython3",
   "version": "3.6.3"
  }
 },
 "nbformat": 4,
 "nbformat_minor": 2
}
